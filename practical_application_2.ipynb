{
 "cells": [
  {
   "cell_type": "markdown",
   "metadata": {},
   "source": [
    "# What drives the price of a car?\n",
    "\n",
    "![](images/kurt.jpeg)"
   ]
  },
  {
   "cell_type": "markdown",
   "metadata": {},
   "source": [
    "### Business Understanding\n",
    "\n",
    "Using a dataset with over 400,000 used car sale prices, we will try to uncover the most important attributes that drive the sale of used car. We will apply several models and search for the best hyperparameters for the models which produce the most accurate results. To validate our models we will keep a set of holdout data that is not provided to the model training phase."
   ]
  },
  {
   "cell_type": "raw",
   "metadata": {},
   "source": [
    "· Use of multiple regression models\n",
    "· Cross-validation of models\n",
    "· Grid search hyperparameters\n",
    "· Appropriate interpretation of coefficients in models\n",
    "· Appropriate interpretation of evaluation metric\n",
    "· Clear identification of evaluation metric\n",
    "· Clear rationale for use of given evaluation metric\n",
    "\n",
    "· Clearly stated business understanding of problem\n",
    "· Clean and organized notebook with data cleaning\n",
    "· Correct and concise interpretation of descriptive and inferential statistics\n",
    "· Clearly stated findings in their own section with actionable items highlighted in appropriate language for a non-technical audience\n",
    "· Next steps and recommendations"
   ]
  },
  {
   "cell_type": "markdown",
   "metadata": {},
   "source": [
    "### Data Understanding\n",
    "\n",
    "In order to get more familiar with our data we will need to look at a few key aspects:\n",
    "\n",
    "1. Which fields are available for consideration.\n",
    "2. Which fields are missing information, and can we provide a default value for the missing data.\n",
    "3. Which information can be ignored and dropped from our analysis."
   ]
  },
  {
   "cell_type": "code",
   "execution_count": 1,
   "metadata": {},
   "outputs": [],
   "source": [
    "import seaborn as sns\n",
    "import numpy as np\n",
    "import pandas as pd\n",
    "import statsmodels.api as sm\n",
    "from statsmodels.tsa.arima.model import ARIMA\n",
    "from statsmodels.tsa.statespace.sarimax import SARIMAX\n",
    "from statsmodels.tsa.stattools import adfuller\n",
    "from statsmodels.graphics.tsaplots import plot_acf, plot_pacf\n",
    "from sklearn.model_selection import train_test_split"
   ]
  },
  {
   "cell_type": "code",
   "execution_count": 2,
   "metadata": {},
   "outputs": [
    {
     "name": "stdout",
     "output_type": "stream",
     "text": [
      "<class 'pandas.core.frame.DataFrame'>\n",
      "RangeIndex: 426880 entries, 0 to 426879\n",
      "Data columns (total 18 columns):\n",
      " #   Column        Non-Null Count   Dtype  \n",
      "---  ------        --------------   -----  \n",
      " 0   id            426880 non-null  int64  \n",
      " 1   region        426880 non-null  object \n",
      " 2   price         426880 non-null  int64  \n",
      " 3   year          425675 non-null  float64\n",
      " 4   manufacturer  409234 non-null  object \n",
      " 5   model         421603 non-null  object \n",
      " 6   condition     252776 non-null  object \n",
      " 7   cylinders     249202 non-null  object \n",
      " 8   fuel          423867 non-null  object \n",
      " 9   odometer      422480 non-null  float64\n",
      " 10  title_status  418638 non-null  object \n",
      " 11  transmission  424324 non-null  object \n",
      " 12  VIN           265838 non-null  object \n",
      " 13  drive         296313 non-null  object \n",
      " 14  size          120519 non-null  object \n",
      " 15  type          334022 non-null  object \n",
      " 16  paint_color   296677 non-null  object \n",
      " 17  state         426880 non-null  object \n",
      "dtypes: float64(2), int64(2), object(14)\n",
      "memory usage: 58.6+ MB\n"
     ]
    }
   ],
   "source": [
    "vehicles = pd.read_csv('data/vehicles.csv')\n",
    "vehicles.info()"
   ]
  },
  {
   "cell_type": "code",
   "execution_count": 3,
   "metadata": {},
   "outputs": [
    {
     "data": {
      "text/plain": [
       "cylinders   \n",
       "6 cylinders     94169\n",
       "4 cylinders     77642\n",
       "8 cylinders     72062\n",
       "5 cylinders      1712\n",
       "10 cylinders     1455\n",
       "other            1298\n",
       "3 cylinders       655\n",
       "12 cylinders      209\n",
       "Name: count, dtype: int64"
      ]
     },
     "execution_count": 3,
     "metadata": {},
     "output_type": "execute_result"
    }
   ],
   "source": [
    "# We can look at the various categorical columns individually to see what data they\n",
    "# contain and the numbers of vehicles of each category. For instance the cylinders \n",
    "# column may be a good proxy for horsepower, and it might be convertible to a numeric\n",
    "# value. However there are a lot of missing values and the 'other' value would throw\n",
    "# off any regression that tries to predict price from cylinders if we encode 'other' as\n",
    "# either zero or a large number. This will have to be one-hot and filled with 'other'.\n",
    "vehicles[['cylinders']].value_counts()"
   ]
  },
  {
   "cell_type": "code",
   "execution_count": 13,
   "metadata": {},
   "outputs": [
    {
     "data": {
      "text/plain": [
       "condition\n",
       "good         121235\n",
       "excellent     99749\n",
       "like new      21178\n",
       "fair           6769\n",
       "new            1303\n",
       "salvage         601\n",
       "Name: count, dtype: int64"
      ]
     },
     "execution_count": 13,
     "metadata": {},
     "output_type": "execute_result"
    }
   ],
   "source": [
    "# Condition could be turned into a set of one-hot encoded columns with 'unknown'\n",
    "# filled in for cars that are missing the data. It would be better to turn this \n",
    "# into an ordinal value as it clearly increases in qualityfrom salvage to new.\n",
    "vehicles[['condition']].value_counts()"
   ]
  },
  {
   "cell_type": "code",
   "execution_count": 12,
   "metadata": {},
   "outputs": [
    {
     "data": {
      "text/plain": [
       "title_status\n",
       "clean           235738\n",
       "unknown           5483\n",
       "rebuilt           5168\n",
       "salvage           2488\n",
       "lien              1315\n",
       "missing            515\n",
       "parts only         128\n",
       "Name: count, dtype: int64"
      ]
     },
     "execution_count": 12,
     "metadata": {},
     "output_type": "execute_result"
    }
   ],
   "source": [
    "vehicles[['title_status']].value_counts()"
   ]
  },
  {
   "cell_type": "code",
   "execution_count": 5,
   "metadata": {},
   "outputs": [
    {
     "data": {
      "text/plain": [
       "model                      \n",
       "f-150                          8009\n",
       "silverado 1500                 5140\n",
       "1500                           4211\n",
       "camry                          3135\n",
       "silverado                      3023\n",
       "                               ... \n",
       "crosstrek 2.0i premium aw         1\n",
       "crosstrek 2.0i prem               1\n",
       "crosstrek 2.0i limited cvt        1\n",
       "crosstrek 2.0i limited aw         1\n",
       "🔥GMC Sierra 1500 SLE🔥 4X4 🔥       1\n",
       "Name: count, Length: 29649, dtype: int64"
      ]
     },
     "execution_count": 5,
     "metadata": {},
     "output_type": "execute_result"
    }
   ],
   "source": [
    "# The model data is very dirty with values that include flame emoji. It also has a\n",
    "# very high cardinality of 28,567 unique values. This isn't extremely useful for us.\n",
    "vehicles[['model']].value_counts()"
   ]
  },
  {
   "cell_type": "markdown",
   "metadata": {},
   "source": [
    "### Data Preparation\n",
    "\n",
    "After our initial exploration and fine tuning of the business understanding, it is time to construct our final dataset prior to modeling.  Here, we want to make sure to handle any integrity issues and cleaning, the engineering of new features, any transformations that we believe should happen (scaling, logarithms, normalization, etc.), and general preparation for modeling with `sklearn`. "
   ]
  },
  {
   "cell_type": "code",
   "execution_count": 8,
   "metadata": {},
   "outputs": [
    {
     "name": "stdout",
     "output_type": "stream",
     "text": [
      "Number of vehicles with key statistics: 250835\n"
     ]
    }
   ],
   "source": [
    "# From the info method, we can see that there are many missing values for key \n",
    "# attributes of model year, fuel, condition, and odometer. We can drop rows missing\n",
    "# values in any key column so that we have data on each car for those values.\n",
    "vehicles.dropna(subset = ['odometer', 'year', 'fuel', 'condition'], inplace=True)\n",
    "print(f\"Number of vehicles with key statistics: {vehicles.shape[0]}\")"
   ]
  },
  {
   "cell_type": "code",
   "execution_count": 9,
   "metadata": {},
   "outputs": [],
   "source": [
    "# We can drop several columns with high cardinality or low quality.\n",
    "vehicles.drop(['VIN', 'model', 'size'],axis = 1, inplace=True)"
   ]
  },
  {
   "cell_type": "code",
   "execution_count": 10,
   "metadata": {},
   "outputs": [],
   "source": [
    "# Fill in the missing values for cylinders, manufacturer, etc.\n",
    "# Some of these already had an \"other\" value so we use that instead of unknown.\n",
    "vehicles['manufacturer'] = vehicles['manufacturer'].fillna('unknown')\n",
    "vehicles['cylinders'] = vehicles['cylinders'].fillna('other')\n",
    "vehicles['title_status'] = vehicles['title_status'].fillna('unknown')\n",
    "vehicles['transmission'] = vehicles['transmission'].fillna('other')\n",
    "vehicles['drive'] = vehicles['drive'].fillna('unknown')\n",
    "vehicles['type'] = vehicles['type'].fillna('other')\n",
    "vehicles['paint_color'] = vehicles['paint_color'].fillna('unknown')"
   ]
  },
  {
   "cell_type": "code",
   "execution_count": 11,
   "metadata": {},
   "outputs": [
    {
     "name": "stdout",
     "output_type": "stream",
     "text": [
      "<class 'pandas.core.frame.DataFrame'>\n",
      "Index: 250835 entries, 27 to 426879\n",
      "Data columns (total 15 columns):\n",
      " #   Column        Non-Null Count   Dtype  \n",
      "---  ------        --------------   -----  \n",
      " 0   id            250835 non-null  int64  \n",
      " 1   region        250835 non-null  object \n",
      " 2   price         250835 non-null  int64  \n",
      " 3   year          250835 non-null  float64\n",
      " 4   manufacturer  250835 non-null  object \n",
      " 5   condition     250835 non-null  object \n",
      " 6   cylinders     250835 non-null  object \n",
      " 7   fuel          250835 non-null  object \n",
      " 8   odometer      250835 non-null  float64\n",
      " 9   title_status  250835 non-null  object \n",
      " 10  transmission  250835 non-null  object \n",
      " 11  drive         250835 non-null  object \n",
      " 12  type          250835 non-null  object \n",
      " 13  paint_color   250835 non-null  object \n",
      " 14  state         250835 non-null  object \n",
      "dtypes: float64(2), int64(2), object(11)\n",
      "memory usage: 30.6+ MB\n"
     ]
    }
   ],
   "source": [
    "# Convert condition to ordinal."
   ]
  },
  {
   "cell_type": "code",
   "execution_count": null,
   "metadata": {},
   "outputs": [],
   "source": []
  },
  {
   "cell_type": "markdown",
   "metadata": {},
   "source": [
    "### Modeling\n",
    "\n",
    "With your (almost?) final dataset in hand, it is now time to build some models.  Here, you should build a number of different regression models with the price as the target.  In building your models, you should explore different parameters and be sure to cross-validate your findings."
   ]
  },
  {
   "cell_type": "code",
   "execution_count": null,
   "metadata": {},
   "outputs": [],
   "source": []
  },
  {
   "cell_type": "code",
   "execution_count": null,
   "metadata": {},
   "outputs": [],
   "source": []
  },
  {
   "cell_type": "code",
   "execution_count": null,
   "metadata": {},
   "outputs": [],
   "source": []
  },
  {
   "cell_type": "code",
   "execution_count": null,
   "metadata": {},
   "outputs": [],
   "source": []
  },
  {
   "cell_type": "markdown",
   "metadata": {},
   "source": [
    "### Evaluation\n",
    "\n",
    "With some modeling accomplished, we aim to reflect on what we identify as a high quality model and what we are able to learn from this.  We should review our business objective and explore how well we can provide meaningful insight on drivers of used car prices.  Your goal now is to distill your findings and determine whether the earlier phases need revisitation and adjustment or if you have information of value to bring back to your client."
   ]
  },
  {
   "cell_type": "code",
   "execution_count": null,
   "metadata": {},
   "outputs": [],
   "source": []
  },
  {
   "cell_type": "code",
   "execution_count": null,
   "metadata": {},
   "outputs": [],
   "source": []
  },
  {
   "cell_type": "code",
   "execution_count": null,
   "metadata": {},
   "outputs": [],
   "source": []
  },
  {
   "cell_type": "code",
   "execution_count": null,
   "metadata": {},
   "outputs": [],
   "source": []
  },
  {
   "cell_type": "code",
   "execution_count": null,
   "metadata": {},
   "outputs": [],
   "source": []
  },
  {
   "cell_type": "code",
   "execution_count": null,
   "metadata": {},
   "outputs": [],
   "source": []
  },
  {
   "cell_type": "markdown",
   "metadata": {},
   "source": [
    "### Deployment\n",
    "\n",
    "Now that we've settled on our models and findings, it is time to deliver the information to the client.  You should organize your work as a basic report that details your primary findings.  Keep in mind that your audience is a group of used car dealers interested in fine tuning their inventory."
   ]
  },
  {
   "cell_type": "code",
   "execution_count": null,
   "metadata": {},
   "outputs": [],
   "source": []
  },
  {
   "cell_type": "code",
   "execution_count": null,
   "metadata": {},
   "outputs": [],
   "source": []
  },
  {
   "cell_type": "code",
   "execution_count": null,
   "metadata": {},
   "outputs": [],
   "source": []
  },
  {
   "cell_type": "code",
   "execution_count": null,
   "metadata": {},
   "outputs": [],
   "source": []
  },
  {
   "cell_type": "code",
   "execution_count": null,
   "metadata": {},
   "outputs": [],
   "source": []
  },
  {
   "cell_type": "code",
   "execution_count": null,
   "metadata": {},
   "outputs": [],
   "source": []
  },
  {
   "cell_type": "code",
   "execution_count": null,
   "metadata": {},
   "outputs": [],
   "source": []
  }
 ],
 "metadata": {
  "kernelspec": {
   "display_name": "Python 3 (ipykernel)",
   "language": "python",
   "name": "python3"
  },
  "language_info": {
   "codemirror_mode": {
    "name": "ipython",
    "version": 3
   },
   "file_extension": ".py",
   "mimetype": "text/x-python",
   "name": "python",
   "nbconvert_exporter": "python",
   "pygments_lexer": "ipython3",
   "version": "3.11.4"
  },
  "widgets": {
   "application/vnd.jupyter.widget-state+json": {
    "state": {},
    "version_major": 2,
    "version_minor": 0
   }
  }
 },
 "nbformat": 4,
 "nbformat_minor": 4
}
